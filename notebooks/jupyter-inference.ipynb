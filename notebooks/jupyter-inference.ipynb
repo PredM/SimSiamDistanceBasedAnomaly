{
 "cells": [
  {
   "cell_type": "markdown",
   "metadata": {
    "collapsed": true,
    "pycharm": {
     "name": "#%% md\n"
    }
   },
   "source": [
    "## Jupyter notebook for inference of the test data set"
   ]
  },
  {
   "cell_type": "markdown",
   "source": [
    "Preparations:"
   ],
   "metadata": {
    "collapsed": false,
    "pycharm": {
     "name": "#%% md\n"
    }
   }
  },
  {
   "cell_type": "code",
   "execution_count": 3,
   "outputs": [],
   "source": [
    "import os\n",
    "from configuration.Configuration import Configuration\n",
    "from configuration.Hyperparameter import Hyperparameters\n",
    "from neural_network.Inference import Inference\n",
    "\n",
    "# suppress debugging messages of TensorFlow\n",
    "os.environ['TF_CPP_MIN_LOG_LEVEL'] = '2'\n",
    "\n",
    "config = Configuration()\n",
    "hyperparameters = Hyperparameters()\n",
    "hyperparameters.load_from_file(config.hyper_file, config.use_hyper_file)\n",
    "print('Using', config.snn_variant, 'out of', config.snn_variants)\n"
   ],
   "metadata": {
    "collapsed": false,
    "pycharm": {
     "name": "#%%\n",
     "is_executing": false
    }
   }
  },
  {
   "cell_type": "markdown",
   "source": [
    "Change config or hyperparameters if needed:\n",
    "(shouldn't be done)"
   ],
   "metadata": {
    "collapsed": false
   }
  },
  {
   "cell_type": "code",
   "execution_count": 3,
   "outputs": [],
   "source": [],
   "metadata": {
    "collapsed": false,
    "pycharm": {
     "name": "#%%\n",
     "is_executing": false
    }
   }
  },
  {
   "cell_type": "markdown",
   "source": [
    "Start the inference process:"
   ],
   "metadata": {
    "collapsed": false
   }
  },
  {
   "cell_type": "code",
   "execution_count": 4,
   "outputs": [],
   "source": [
    "inference = Inference(config, hyperparameters, config.training_data_folder)\n",
    "\n",
    "print('\\nEnsure right model file is used:')\n",
    "print(config.directory_model_to_use, '\\n')\n",
    "\n",
    "inference.infer_test_dataset()"
   ],
   "metadata": {
    "collapsed": false,
    "pycharm": {
     "name": "#%%\n",
     "is_executing": false
    }
   }
  }
 ],
 "metadata": {
  "language_info": {
   "codemirror_mode": {
    "name": "ipython",
    "version": 2
   },
   "file_extension": ".py",
   "mimetype": "text/x-python",
   "name": "python",
   "nbconvert_exporter": "python",
   "pygments_lexer": "ipython2",
   "version": "2.7.6"
  },
  "kernelspec": {
   "name": "python3",
   "language": "python",
   "display_name": "Python 3"
  },
  "pycharm": {
   "stem_cell": {
    "cell_type": "raw",
    "source": [],
    "metadata": {
     "collapsed": false
    }
   }
  }
 },
 "nbformat": 4,
 "nbformat_minor": 0
}