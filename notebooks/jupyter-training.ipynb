{
 "cells": [
  {
   "cell_type": "markdown",
   "source": [
    "## Jupyter notebook for training"
   ],
   "metadata": {
    "collapsed": false
   }
  },
  {
   "cell_type": "markdown",
   "source": [
    "Preparations:"
   ],
   "metadata": {
    "collapsed": false
   }
  },
  {
   "cell_type": "code",
   "execution_count": null,
   "outputs": [],
   "source": [
    "import os\n",
    "from configuration.Configuration import Configuration\n",
    "from configuration.Hyperparameter import Hyperparameters\n",
    "from neural_network.Dataset import Dataset\n",
    "from neural_network.Optimizer import Optimizer\n",
    "from neural_network.SNN import initialise_snn\n",
    "\n",
    "# suppress debugging messages of TensorFlow\n",
    "os.environ['TF_CPP_MIN_LOG_LEVEL'] = '2'\n",
    "\n",
    "config = Configuration()\n",
    "hyper = Hyperparameters()\n",
    "hyper.load_from_file(config.hyper_file, config.use_hyper_file)"
   ],
   "metadata": {
    "collapsed": false,
    "pycharm": {
     "name": "#%%\n"
    }
   }
  },
  {
   "cell_type": "markdown",
   "source": [
    "Change config or hyperparameters if needed:"
   ],
   "metadata": {
    "collapsed": false,
    "pycharm": {
     "name": "#%% md\n"
    }
   }
  },
  {
   "cell_type": "code",
   "execution_count": null,
   "outputs": [],
   "source": [
    "config.continue_training = False"
   ],
   "metadata": {
    "collapsed": false,
    "pycharm": {
     "name": "#%%\n"
    }
   }
  },
  {
   "cell_type": "markdown",
   "source": [
    "Start the training process:"
   ],
   "metadata": {
    "collapsed": false,
    "pycharm": {
     "name": "#%% md\n"
    }
   }
  },
  {
   "cell_type": "code",
   "execution_count": null,
   "outputs": [],
   "source": [
    "dataset = Dataset(config.training_data_folder, config, training=True)\n",
    "dataset.load()\n",
    "\n",
    "hyper.time_series_length = dataset.time_series_length\n",
    "hyper.time_series_depth = dataset.time_series_depth\n",
    "\n",
    "snn = initialise_snn(config, hyper, dataset, True)\n",
    "snn.print_detailed_model_info()\n",
    "\n",
    "print('Training:')\n",
    "optimizer = Optimizer(snn, dataset, hyper, config)\n",
    "optimizer.optimize()"
   ],
   "metadata": {
    "collapsed": false,
    "pycharm": {
     "name": "#%%\n"
    }
   }
  }
 ],
 "metadata": {
  "language_info": {
   "codemirror_mode": {
    "name": "ipython",
    "version": 2
   },
   "file_extension": ".py",
   "mimetype": "text/x-python",
   "name": "python",
   "nbconvert_exporter": "python",
   "pygments_lexer": "ipython2",
   "version": "2.7.6"
  },
  "kernelspec": {
   "name": "python3",
   "language": "python",
   "display_name": "Python 3"
  },
  "pycharm": {
   "stem_cell": {
    "cell_type": "raw",
    "source": [],
    "metadata": {
     "collapsed": false
    }
   }
  }
 },
 "nbformat": 4,
 "nbformat_minor": 0
}